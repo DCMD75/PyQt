{
 "cells": [
  {
   "cell_type": "code",
   "execution_count": 4,
   "metadata": {},
   "outputs": [],
   "source": [
    "# Import sys for mainloop\n",
    "import sys\n",
    "# Import QtCore and QtGui.\n",
    "from PyQt4.QtCore import *\n",
    "from PyQt4.QtGui import *"
   ]
  },
  {
   "cell_type": "code",
   "execution_count": 9,
   "metadata": {},
   "outputs": [],
   "source": [
    "def window():\n",
    "    # Create application object.\n",
    "    app = QApplication(sys.argv)\n",
    "    # Create a top level window.\n",
    "    win = QWidget()\n",
    "    \n",
    "    # Create to buttons object.\n",
    "    b1 = QPushButton(\"Button 1\")\n",
    "    b2 = QPushButton(\"Button 2\")\n",
    "    \n",
    "    # Create a vertical box layout.\n",
    "    vbox = QVBoxLayout()\n",
    "    # Create empty stretchable box.\n",
    "    vbox.addStretch()\n",
    "    # Add the widget to the box layout.\n",
    "    vbox.addWidget(b1)\n",
    "    # Add the widget to the box layout.\n",
    "    vbox.addWidget(b2)\n",
    "    # Add the layout to the window.\n",
    "    win.setLayout(vbox)\n",
    "    \n",
    "    # Connection between signal and slot.\n",
    "    # First format : widget.signal.connect(slot_function)\n",
    "    b1.clicked.connect(b1_clicked)\n",
    "    # Second format:\n",
    "    QObject.connect( b2, SIGNAL(\"clicked()\"), b2_clicked)\n",
    "    \n",
    "    # Display the window.\n",
    "    win.show()\n",
    "    # Enter application mainloop.\n",
    "    sys.exit(app.exec_())\n",
    "\n",
    "# Define slot functions.    \n",
    "def b1_clicked():\n",
    "    print(\"b1\")\n",
    "    \n",
    "def b2_clicked():\n",
    "    print(\"b2\")"
   ]
  },
  {
   "cell_type": "code",
   "execution_count": 10,
   "metadata": {},
   "outputs": [
    {
     "name": "stdout",
     "output_type": "stream",
     "text": [
      "b1\n",
      "b2\n",
      "b2\n",
      "b1\n"
     ]
    },
    {
     "ename": "SystemExit",
     "evalue": "0",
     "output_type": "error",
     "traceback": [
      "An exception has occurred, use %tb to see the full traceback.\n",
      "\u001b[0;31mSystemExit\u001b[0m\u001b[0;31m:\u001b[0m 0\n"
     ]
    },
    {
     "name": "stderr",
     "output_type": "stream",
     "text": [
      "/usr/lib/python3/dist-packages/IPython/core/interactiveshell.py:2890: UserWarning: To exit: use 'exit', 'quit', or Ctrl-D.\n",
      "  warn(\"To exit: use 'exit', 'quit', or Ctrl-D.\", stacklevel=1)\n"
     ]
    }
   ],
   "source": [
    "if __name__ == '__main__':\n",
    "    window()"
   ]
  }
 ],
 "metadata": {
  "kernelspec": {
   "display_name": "Python 3",
   "language": "python",
   "name": "python3"
  },
  "language_info": {
   "codemirror_mode": {
    "name": "ipython",
    "version": 3
   },
   "file_extension": ".py",
   "mimetype": "text/x-python",
   "name": "python",
   "nbconvert_exporter": "python",
   "pygments_lexer": "ipython3",
   "version": "3.6.6"
  }
 },
 "nbformat": 4,
 "nbformat_minor": 2
}
