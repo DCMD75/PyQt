{
 "cells": [
  {
   "cell_type": "code",
   "execution_count": 6,
   "metadata": {},
   "outputs": [],
   "source": [
    "# Import sys\n",
    "import sys\n",
    "# Import libraries for Qt.\n",
    "from PyQt4 import QtGui\n"
   ]
  },
  {
   "cell_type": "code",
   "execution_count": 7,
   "metadata": {},
   "outputs": [],
   "source": [
    "def window():\n",
    "    # Create application object.\n",
    "    app = QtGui.QApplication(sys.argv)\n",
    "    # A QWidget object creates a top level window.\n",
    "    w = QtGui.QWidget()\n",
    "    # Create Qlabel object.\n",
    "    b = QtGui.QLabel(w)\n",
    "    # Set the caption of label.\n",
    "    b.setText(\"Hello world\")\n",
    "    # Define the size and position of window.\n",
    "    w.setGeometry(100,100,200,50)\n",
    "    b.move(50,20)\n",
    "    # Set a title to the window.\n",
    "    w.setWindowTitle(\"PyQt first test\")\n",
    "    w.show()\n",
    "    # Enter the mainloop of application.\n",
    "    sys.exit(app.exec_())"
   ]
  },
  {
   "cell_type": "code",
   "execution_count": 9,
   "metadata": {},
   "outputs": [
    {
     "ename": "SystemExit",
     "evalue": "0",
     "output_type": "error",
     "traceback": [
      "An exception has occurred, use %tb to see the full traceback.\n",
      "\u001b[0;31mSystemExit\u001b[0m\u001b[0;31m:\u001b[0m 0\n"
     ]
    },
    {
     "name": "stderr",
     "output_type": "stream",
     "text": [
      "/usr/lib/python3/dist-packages/IPython/core/interactiveshell.py:2890: UserWarning: To exit: use 'exit', 'quit', or Ctrl-D.\n",
      "  warn(\"To exit: use 'exit', 'quit', or Ctrl-D.\", stacklevel=1)\n"
     ]
    }
   ],
   "source": [
    "if __name__ == '__main__':\n",
    "    window()"
   ]
  }
 ],
 "metadata": {
  "kernelspec": {
   "display_name": "Python 3",
   "language": "python",
   "name": "python3"
  },
  "language_info": {
   "codemirror_mode": {
    "name": "ipython",
    "version": 3
   },
   "file_extension": ".py",
   "mimetype": "text/x-python",
   "name": "python",
   "nbconvert_exporter": "python",
   "pygments_lexer": "ipython3",
   "version": "3.6.6"
  }
 },
 "nbformat": 4,
 "nbformat_minor": 2
}
